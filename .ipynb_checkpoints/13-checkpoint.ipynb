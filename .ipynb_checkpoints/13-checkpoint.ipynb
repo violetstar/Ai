{
 "cells": [
  {
   "cell_type": "code",
   "execution_count": 8,
   "id": "ca4aa204",
   "metadata": {},
   "outputs": [
    {
     "name": "stdout",
     "output_type": "stream",
     "text": [
      "[1, 2, 3, 4]\n",
      "Mean 2.5\n",
      "Median 2.5\n"
     ]
    }
   ],
   "source": [
    "import numpy as np\n",
    "\n",
    "# X is a Python List\n",
    "X = [2,3,4,1]\n",
    "\n",
    "# Sorting the data and printing it.\n",
    "X.sort()\n",
    "print(X)\n",
    "# [13.75, 21.52, 32.32, 43.34, 43.47, 44.32, 55.63, 56.98]\n",
    "\n",
    "# Using NumPy's built-in functions to Find Mean, Median, SD and Variance\n",
    "mean = np.mean(X)\n",
    "median = np.median(X)\n",
    "\n",
    "\n",
    "# Printing the values\n",
    "print(\"Mean\", mean) # 38.91625\n",
    "print(\"Median\", median) # 43.405\n"
   ]
  },
  {
   "cell_type": "code",
   "execution_count": 12,
   "id": "052b35b2",
   "metadata": {},
   "outputs": [
    {
     "name": "stdout",
     "output_type": "stream",
     "text": [
      "ModeResult(mode=array([4]), count=array([6]))\n"
     ]
    }
   ],
   "source": [
    "import numpy as np\n",
    "from scipy import stats\n",
    "\n",
    "# X is a Python List\n",
    "x = [2,3,4,1,2,2,4,4,4,4,4]\n",
    "\n",
    "r = stats.mode(x)\n",
    "\n",
    "print(r)"
   ]
  },
  {
   "cell_type": "code",
   "execution_count": null,
   "id": "0c4c1069",
   "metadata": {},
   "outputs": [],
   "source": []
  },
  {
   "cell_type": "code",
   "execution_count": null,
   "id": "81c89d60",
   "metadata": {},
   "outputs": [],
   "source": []
  },
  {
   "cell_type": "code",
   "execution_count": null,
   "id": "11a4a288",
   "metadata": {},
   "outputs": [],
   "source": []
  }
 ],
 "metadata": {
  "kernelspec": {
   "display_name": "Python 3 (ipykernel)",
   "language": "python",
   "name": "python3"
  },
  "language_info": {
   "codemirror_mode": {
    "name": "ipython",
    "version": 3
   },
   "file_extension": ".py",
   "mimetype": "text/x-python",
   "name": "python",
   "nbconvert_exporter": "python",
   "pygments_lexer": "ipython3",
   "version": "3.9.7"
  }
 },
 "nbformat": 4,
 "nbformat_minor": 5
}
